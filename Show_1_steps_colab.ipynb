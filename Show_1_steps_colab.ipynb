{
  "cells": [
    {
      "cell_type": "markdown",
      "metadata": {
        "id": "view-in-github"
      },
      "source": [
        "[![Open In Colab](https://colab.research.google.com/assets/colab-badge.svg)](https://colab.research.google.com/github/camenduru/Show-1-colab/blob/main/Show_1_steps_colab.ipynb)"
      ]
    },
    {
      "cell_type": "code",
      "execution_count": null,
      "metadata": {
        "id": "VjYy0F2gZIPR"
      },
      "outputs": [],
      "source": [
        "%cd /content\n",
        "!git clone -b dev https://github.com/camenduru/Show-1\n",
        "%cd /content/Show-1\n",
        "\n",
        "!pip install -q diffusers==0.19.3 bitsandbytes==0.35.4 decord==0.6.0 transformers==4.29.1 accelerate==0.18.0\n",
        "!pip install -q sentencepiece safetensors modelcards omegaconf einops ftfy"
      ]
    },
    {
      "cell_type": "code",
      "execution_count": null,
      "metadata": {},
      "outputs": [],
      "source": [
        "import os\n",
        "import math\n",
        "import random\n",
        "\n",
        "import imageio\n",
        "import numpy as np\n",
        "from PIL import Image, ImageSequence\n",
        "\n",
        "import torch\n",
        "import torch.nn.functional as F\n",
        "from torchvision.transforms.functional import to_tensor\n",
        "\n",
        "from diffusers import DDPMScheduler, DDIMScheduler, DPMSolverMultistepScheduler, DPMSolverSinglestepScheduler\n",
        "from diffusers import IFSuperResolutionPipeline, DiffusionPipeline, VideoToVideoSDPipeline\n",
        "from diffusers.utils import export_to_video\n",
        "\n",
        "from showone.models import UNet3DConditionModel\n",
        "from showone.pipelines import TextToVideoIFPipeline, TextToVideoIFInterpPipeline, TextToVideoIFSuperResolutionPipeline\n",
        "from showone.pipelines.pipeline_t2v_base_pixel import tensor2vid\n",
        "from showone.pipelines.pipeline_t2v_sr_pixel_cond import TextToVideoIFSuperResolutionPipeline_Cond"
      ]
    },
    {
      "cell_type": "code",
      "execution_count": null,
      "metadata": {},
      "outputs": [],
      "source": [
        "#@title Step 1\n",
        "import gc\n",
        "import torch\n",
        "pipe_sr_2 = None\n",
        "gc.collect()\n",
        "torch.cuda.empty_cache()\n",
        "# base model    # you can also chose \"showlab/show-1-base-0.0\" with more inference steps(e.g., 100) and larger gudiance scale(e.g., 12.0)\n",
        "pipe_base = TextToVideoIFPipeline.from_pretrained(\"showlab/show-1-base-0.0\", torch_dtype=torch.float16, variant=\"fp16\")\n",
        "pipe_base.enable_model_cpu_offload()"
      ]
    },
    {
      "cell_type": "code",
      "execution_count": null,
      "metadata": {},
      "outputs": [],
      "source": [
        "prompt = \"A burning lamborghini driving on rainbow.\"\n",
        "output_dir = \"./outputs/template\"\n",
        "negative_prompt = \"low resolution, blur\"\n",
        "\n",
        "seed = 345\n",
        "os.makedirs(output_dir, exist_ok=True)\n",
        "\n",
        "prompt_embeds, negative_embeds = pipe_base.encode_prompt(prompt)\n",
        "\n",
        "video_frames = pipe_base(prompt_embeds=prompt_embeds,\n",
        "                         negative_prompt_embeds=negative_embeds,\n",
        "                         num_frames=8,\n",
        "                         height=40,\n",
        "                         width=64,\n",
        "                         num_inference_steps=75,\n",
        "                         guidance_scale=9.0,\n",
        "                         generator=torch.manual_seed(seed),\n",
        "                         output_type=\"pt\").frames\n",
        "\n",
        "imageio.mimsave(f\"{output_dir}/{prompt}_base.gif\", tensor2vid(video_frames.clone()), fps=2)\n",
        "\n",
        "# interpolation (2fps -> 7.5fps)\n",
        "bsz, channel, num_frames, height, width = video_frames.shape\n",
        "new_num_frames = 3 * (num_frames - 1) + num_frames\n",
        "new_video_frames = torch.zeros((bsz, channel, new_num_frames, height, width),\n",
        "                               dtype=video_frames.dtype,\n",
        "                               device=video_frames.device)\n",
        "new_video_frames[:, :, torch.arange(0, new_num_frames, 4), ...] = video_frames\n",
        "\n",
        "from diffusers.utils.torch_utils import randn_tensor\n",
        "\n",
        "init_noise = randn_tensor((bsz, channel, 5, height, width),\n",
        "                          generator=torch.manual_seed(seed),\n",
        "                          device=video_frames.device,\n",
        "                          dtype=video_frames.dtype)"
      ]
    },
    {
      "cell_type": "code",
      "execution_count": null,
      "metadata": {},
      "outputs": [],
      "source": [
        "#@title Step 2\n",
        "import gc\n",
        "import torch\n",
        "pipe_base = None\n",
        "gc.collect()\n",
        "torch.cuda.empty_cache()\n",
        "pipe_interp_1 = TextToVideoIFInterpPipeline.from_pretrained(\"showlab/show-1-interpolation\", torch_dtype=torch.float16, variant=\"fp16\")\n",
        "pipe_interp_1.enable_model_cpu_offload()"
      ]
    },
    {
      "cell_type": "code",
      "execution_count": null,
      "metadata": {},
      "outputs": [],
      "source": [
        "for i in range(num_frames - 1):\n",
        "    batch_i = torch.zeros((bsz, channel, 5, height, width),\n",
        "                          dtype=video_frames.dtype,\n",
        "                          device=video_frames.device)\n",
        "    batch_i[:, :, 0, ...] = video_frames[:, :, i, ...]\n",
        "    batch_i[:, :, -1, ...] = video_frames[:, :, i + 1, ...]\n",
        "    batch_i = pipe_interp_1(\n",
        "        pixel_values=batch_i,\n",
        "        prompt_embeds=prompt_embeds,\n",
        "        negative_prompt_embeds=negative_embeds,\n",
        "        num_frames=batch_i.shape[2],\n",
        "        height=40,\n",
        "        width=64,\n",
        "        num_inference_steps=75,\n",
        "        guidance_scale=4.0,\n",
        "        generator=torch.manual_seed(seed),\n",
        "        output_type=\"pt\",\n",
        "        init_noise=init_noise,\n",
        "        cond_interpolation=True,\n",
        "    ).frames\n",
        "\n",
        "    new_video_frames[:, :, i * 4:i * 4 + 5, ...] = batch_i\n",
        "\n",
        "video_frames = new_video_frames\n",
        "imageio.mimsave(f\"{output_dir}/{prompt}_inter.gif\",\n",
        "                tensor2vid(video_frames.clone()),\n",
        "                fps=8)\n",
        "\n",
        "#sr1\n",
        "bsz, channel, num_frames, height, width = video_frames.shape\n",
        "window_size, stride = 8, 7\n",
        "new_video_frames = torch.zeros(\n",
        "    (bsz, channel, num_frames, height * 4, width * 4),\n",
        "    dtype=video_frames.dtype,\n",
        "    device=video_frames.device)"
      ]
    },
    {
      "cell_type": "code",
      "execution_count": null,
      "metadata": {},
      "outputs": [],
      "source": [
        "#@title Step 3\n",
        "import gc\n",
        "import torch\n",
        "pipe_interp_1 = None\n",
        "gc.collect()\n",
        "torch.cuda.empty_cache()\n",
        "pipe_sr_1_image = IFSuperResolutionPipeline.from_pretrained(\"DeepFloyd/IF-II-L-v1.0\",text_encoder=None,variant=\"fp16\",torch_dtype=torch.float16)\n",
        "pipe_sr_1_image.enable_model_cpu_offload()\n",
        "\n",
        "pipe_sr_1_cond = TextToVideoIFSuperResolutionPipeline_Cond.from_pretrained(\"showlab/show-1-sr1\", torch_dtype=torch.float16)\n",
        "pipe_sr_1_cond.enable_model_cpu_offload()"
      ]
    },
    {
      "cell_type": "code",
      "execution_count": null,
      "metadata": {},
      "outputs": [],
      "source": [
        "for i in range(0, num_frames - window_size + 1, stride):\n",
        "    batch_i = video_frames[:, :, i:i + window_size, ...]\n",
        "    all_frame_cond = None\n",
        "\n",
        "    if i == 0:\n",
        "        first_frame_cond = pipe_sr_1_image(\n",
        "            image=video_frames[:, :, 0, ...],\n",
        "            prompt_embeds=prompt_embeds,\n",
        "            negative_prompt_embeds=negative_embeds,\n",
        "            height=height * 4,\n",
        "            width=width * 4,\n",
        "            num_inference_steps=70,\n",
        "            guidance_scale=4.0,\n",
        "            noise_level=150,\n",
        "            generator=torch.manual_seed(seed),\n",
        "            output_type=\"pt\").images\n",
        "        first_frame_cond = first_frame_cond.unsqueeze(2)\n",
        "        # first_frame_cond = all_frame_cond[:,:,:1,:,:]\n",
        "    else:\n",
        "        first_frame_cond = new_video_frames[:, :, i:i + 1, ...]\n",
        "\n",
        "    batch_i = pipe_sr_1_cond(image=batch_i,\n",
        "                             prompt_embeds=prompt_embeds,\n",
        "                             negative_prompt_embeds=negative_embeds,\n",
        "                             first_frame_cond=first_frame_cond,\n",
        "                             height=height * 4,\n",
        "                             width=width * 4,\n",
        "                             num_inference_steps=125,\n",
        "                             guidance_scale=7.0,\n",
        "                             noise_level=250,\n",
        "                             generator=torch.manual_seed(seed),\n",
        "                             output_type=\"pt\").frames\n",
        "    new_video_frames[:, :, i:i + window_size, ...] = batch_i\n",
        "\n",
        "video_frames = new_video_frames\n",
        "imageio.mimsave(f\"{output_dir}/{prompt}_sr1.gif\",\n",
        "                tensor2vid(video_frames.clone()),\n",
        "                fps=8)"
      ]
    },
    {
      "cell_type": "code",
      "execution_count": null,
      "metadata": {},
      "outputs": [],
      "source": [
        "#@title Step 4\n",
        "import gc\n",
        "import torch\n",
        "pipe_sr_1_image = None\n",
        "pipe_sr_1_cond = None\n",
        "gc.collect()\n",
        "torch.cuda.empty_cache()\n",
        "pipe_sr_2 = VideoToVideoSDPipeline.from_pretrained(\"showlab/show-1-sr2\", torch_dtype=torch.float16)\n",
        "pipe_sr_2.enable_model_cpu_offload()\n",
        "pipe_sr_2.enable_vae_slicing()"
      ]
    },
    {
      "cell_type": "code",
      "execution_count": null,
      "metadata": {},
      "outputs": [],
      "source": [
        "video_frames = [\n",
        "    Image.fromarray(frame).resize((576, 320))\n",
        "    for frame in tensor2vid(video_frames.clone())\n",
        "]\n",
        "video_frames = pipe_sr_2(prompt,\n",
        "                         negative_prompt=negative_prompt,\n",
        "                         video=video_frames,\n",
        "                         strength=0.8,\n",
        "                         num_inference_steps=50,\n",
        "                         generator=torch.manual_seed(seed),\n",
        "                         output_type=\"pt\").frames\n",
        "\n",
        "imageio.mimsave(f\"{output_dir}/{prompt}.gif\",\n",
        "                tensor2vid(video_frames.clone()),\n",
        "                fps=8)"
      ]
    }
  ],
  "metadata": {
    "accelerator": "GPU",
    "colab": {
      "gpuType": "T4",
      "provenance": []
    },
    "kernelspec": {
      "display_name": "Python 3",
      "name": "python3"
    },
    "language_info": {
      "name": "python"
    }
  },
  "nbformat": 4,
  "nbformat_minor": 0
}
